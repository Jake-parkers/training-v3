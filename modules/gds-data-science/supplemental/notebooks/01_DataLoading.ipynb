{
 "cells": [
  {
   "cell_type": "markdown",
   "metadata": {
    "pycharm": {}
   },
   "source": [
    "# Citation Dataset Loading\n",
    "\n",
    "In this notebook we're going to load the citation dataset into Neo4j."
   ]
  },
  {
   "cell_type": "markdown",
   "metadata": {
    "pycharm": {}
   },
   "source": [
    "We'll start by importing py2neo library which we'll use to import the data into Neo4j. py2neo is a client library and toolkit for working with Neo4j from within Python applications. It is well suited for Data Science workflows and has great integration with other Python Data Science tools."
   ]
  },
  {
   "cell_type": "code",
   "execution_count": 1,
   "metadata": {
    "pycharm": {}
   },
   "outputs": [],
   "source": [
    "from py2neo import Graph"
   ]
  },
  {
   "cell_type": "code",
   "execution_count": 8,
   "metadata": {
    "pycharm": {}
   },
   "outputs": [],
   "source": [
    "# Change the line of code below to use the Bolt URL,  and Password of your Neo4j Desktop instance.\n",
    "# graph = Graph(\"<Bolt URL>\", auth=(\"neo4j\", \"<Password>\")) \n",
    " \n",
    "graph = Graph(\"bolt://localhost:7687\", auth=(\"neo4j\", \"letmein\"))"
   ]
  },
  {
   "cell_type": "markdown",
   "metadata": {
    "pycharm": {}
   },
   "source": [
    "## Create Constraints\n",
    "\n",
    "First let's create some constraints to make sure we don't import duplicate data:"
   ]
  },
  {
   "cell_type": "code",
   "execution_count": 3,
   "metadata": {
    "pycharm": {}
   },
   "outputs": [
    {
     "data": {
      "text/plain": [
       "constraints_added: 1\n",
       "constraints_removed: 0\n",
       "contained_updates: True\n",
       "indexes_added: 0\n",
       "indexes_removed: 0\n",
       "labels_added: 0\n",
       "labels_removed: 0\n",
       "nodes_created: 0\n",
       "nodes_deleted: 0\n",
       "properties_set: 0\n",
       "relationships_created: 0\n",
       "relationships_deleted: 0"
      ]
     },
     "metadata": {},
     "output_type": "display_data"
    },
    {
     "data": {
      "text/plain": [
       "constraints_added: 1\n",
       "constraints_removed: 0\n",
       "contained_updates: True\n",
       "indexes_added: 0\n",
       "indexes_removed: 0\n",
       "labels_added: 0\n",
       "labels_removed: 0\n",
       "nodes_created: 0\n",
       "nodes_deleted: 0\n",
       "properties_set: 0\n",
       "relationships_created: 0\n",
       "relationships_deleted: 0"
      ]
     },
     "metadata": {},
     "output_type": "display_data"
    },
    {
     "data": {
      "text/plain": [
       "constraints_added: 1\n",
       "constraints_removed: 0\n",
       "contained_updates: True\n",
       "indexes_added: 0\n",
       "indexes_removed: 0\n",
       "labels_added: 0\n",
       "labels_removed: 0\n",
       "nodes_created: 0\n",
       "nodes_deleted: 0\n",
       "properties_set: 0\n",
       "relationships_created: 0\n",
       "relationships_deleted: 0"
      ]
     },
     "metadata": {},
     "output_type": "display_data"
    }
   ],
   "source": [
    "display(graph.run(\"CREATE CONSTRAINT ON (a:Article) ASSERT a.index IS UNIQUE\").stats())\n",
    "display(graph.run(\"CREATE CONSTRAINT ON (a:Author) ASSERT a.name IS UNIQUE\").stats())\n",
    "display(graph.run(\"CREATE CONSTRAINT ON (v:Venue) ASSERT v.name IS UNIQUE\").stats())"
   ]
  },
  {
   "cell_type": "markdown",
   "metadata": {
    "pycharm": {}
   },
   "source": [
    "## Loading the data\n",
    "\n",
    "Now let's load the data into the database. We'll create nodes for Articles, Venues, and Authors.\n"
   ]
  },
  {
   "cell_type": "code",
   "execution_count": 9,
   "metadata": {
    "pycharm": {}
   },
   "outputs": [
    {
     "data": {
      "text/html": [
       "<div>\n",
       "<style scoped>\n",
       "    .dataframe tbody tr th:only-of-type {\n",
       "        vertical-align: middle;\n",
       "    }\n",
       "\n",
       "    .dataframe tbody tr th {\n",
       "        vertical-align: top;\n",
       "    }\n",
       "\n",
       "    .dataframe thead th {\n",
       "        text-align: right;\n",
       "    }\n",
       "</style>\n",
       "<table border=\"1\" class=\"dataframe\">\n",
       "  <thead>\n",
       "    <tr style=\"text-align: right;\">\n",
       "      <th></th>\n",
       "      <th>batch</th>\n",
       "      <th>batches</th>\n",
       "      <th>committedOperations</th>\n",
       "      <th>errorMessages</th>\n",
       "      <th>failedBatches</th>\n",
       "      <th>failedOperations</th>\n",
       "      <th>failedParams</th>\n",
       "      <th>operations</th>\n",
       "      <th>retries</th>\n",
       "      <th>timeTaken</th>\n",
       "      <th>total</th>\n",
       "      <th>wasTerminated</th>\n",
       "    </tr>\n",
       "  </thead>\n",
       "  <tbody>\n",
       "    <tr>\n",
       "      <th>0</th>\n",
       "      <td>{'failed': 0, 'committed': 52, 'total': 52, 'e...</td>\n",
       "      <td>52</td>\n",
       "      <td>51956</td>\n",
       "      <td>{}</td>\n",
       "      <td>0</td>\n",
       "      <td>0</td>\n",
       "      <td>{}</td>\n",
       "      <td>{'failed': 0, 'committed': 51956, 'total': 519...</td>\n",
       "      <td>0</td>\n",
       "      <td>57</td>\n",
       "      <td>51956</td>\n",
       "      <td>False</td>\n",
       "    </tr>\n",
       "  </tbody>\n",
       "</table>\n",
       "</div>"
      ],
      "text/plain": [
       "                                               batch  batches  \\\n",
       "0  {'failed': 0, 'committed': 52, 'total': 52, 'e...       52   \n",
       "\n",
       "   committedOperations errorMessages  failedBatches  failedOperations  \\\n",
       "0                51956            {}              0                 0   \n",
       "\n",
       "  failedParams                                         operations  retries  \\\n",
       "0           {}  {'failed': 0, 'committed': 51956, 'total': 519...        0   \n",
       "\n",
       "   timeTaken  total  wasTerminated  \n",
       "0         57  51956          False  "
      ]
     },
     "execution_count": 9,
     "metadata": {},
     "output_type": "execute_result"
    }
   ],
   "source": [
    "query = \"\"\"\n",
    "CALL apoc.periodic.iterate(\n",
    "  'UNWIND [\"dblp-ref-0.json\", \"dblp-ref-1.json\", \"dblp-ref-2.json\", \"dblp-ref-3.json\"] AS file\n",
    "   CALL apoc.load.json(\"https://github.com/neo4j-contrib/training-v3/raw/master/modules/gds-data-science/supplemental/data/\" + file)\n",
    "   YIELD value WITH value\n",
    "   return value',\n",
    "  'MERGE (a:Article {index:value.id})\n",
    "   SET a += apoc.map.clean(value,[\"id\",\"authors\",\"references\", \"venue\"],[0])\n",
    "   WITH a, value.authors as authors, value.references AS citations, value.venue AS venue\n",
    "   MERGE (v:Venue {name: venue})\n",
    "   MERGE (a)-[:VENUE]->(v)\n",
    "   FOREACH(author in authors | \n",
    "     MERGE (b:Author{name:author})\n",
    "     MERGE (a)-[:AUTHOR]->(b))\n",
    "   FOREACH(citation in citations | \n",
    "     MERGE (cited:Article {index:citation})\n",
    "     MERGE (a)-[:CITED]->(cited))', \n",
    "   {batchSize: 1000, iterateList: true});\n",
    "\"\"\"\n",
    "graph.run(query).to_data_frame()"
   ]
  },
  {
   "cell_type": "code",
   "execution_count": 17,
   "metadata": {
    "pycharm": {}
   },
   "outputs": [
    {
     "data": {
      "text/plain": [
       "constraints_added: 0\n",
       "constraints_removed: 0\n",
       "contains_updates: False\n",
       "indexes_added: 0\n",
       "indexes_removed: 0\n",
       "labels_added: 0\n",
       "labels_removed: 0\n",
       "nodes_created: 0\n",
       "nodes_deleted: 0\n",
       "properties_set: 0\n",
       "relationships_created: 0\n",
       "relationships_deleted: 0"
      ]
     },
     "execution_count": 17,
     "metadata": {},
     "output_type": "execute_result"
    }
   ],
   "source": [
    "query = \"\"\"\n",
    "MATCH (a:Article) WHERE not(exists(a.title))\n",
    "DETACH DELETE a\n",
    "\"\"\"\n",
    "graph.run(query).stats()"
   ]
  },
  {
   "cell_type": "markdown",
   "metadata": {
    "pycharm": {}
   },
   "source": [
    "In the next notebook we'll explore the data that we've imported. "
   ]
  }
 ],
 "metadata": {
  "kernelspec": {
   "display_name": "Python 3",
   "language": "python",
   "name": "python3"
  },
  "language_info": {
   "codemirror_mode": {
    "name": "ipython",
    "version": 3
   },
   "file_extension": ".py",
   "mimetype": "text/x-python",
   "name": "python",
   "nbconvert_exporter": "python",
   "pygments_lexer": "ipython3",
   "version": "3.5.2"
  }
 },
 "nbformat": 4,
 "nbformat_minor": 2
}
